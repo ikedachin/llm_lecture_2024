{
  "nbformat": 4,
  "nbformat_minor": 0,
  "metadata": {
    "colab": {
      "provenance": [],
      "machine_shape": "hm",
      "gpuType": "L4",
      "authorship_tag": "ABX9TyOmIzz5ENbm7Tw0L1lr1jnc",
      "include_colab_link": true
    },
    "kernelspec": {
      "name": "python3",
      "display_name": "Python 3"
    },
    "language_info": {
      "name": "python"
    },
    "accelerator": "GPU"
  },
  "cells": [
    {
      "cell_type": "markdown",
      "metadata": {
        "id": "view-in-github",
        "colab_type": "text"
      },
      "source": [
        "<a href=\"https://colab.research.google.com/github/ikedachin/llm_lecture_2024/blob/main/inference_notebook.ipynb\" target=\"_parent\"><img src=\"https://colab.research.google.com/assets/colab-badge.svg\" alt=\"Open In Colab\"/></a>"
      ]
    },
    {
      "cell_type": "markdown",
      "source": [
        "# install libraries"
      ],
      "metadata": {
        "id": "wnHnbgPskFeT"
      }
    },
    {
      "cell_type": "code",
      "execution_count": null,
      "metadata": {
        "id": "Xhzmes_TjydX"
      },
      "outputs": [],
      "source": [
        "!pip uninstall unsloth -y\n",
        "!pip install --upgrade --no-cache-dir \"unsloth[colab-new] @ git+https://github.com/unslothai/unsloth.git\""
      ]
    },
    {
      "cell_type": "code",
      "source": [
        "!pip install --upgrade torch\n",
        "!pip install --upgrade xformers"
      ],
      "metadata": {
        "id": "5lNHNW-mj4bU"
      },
      "execution_count": null,
      "outputs": []
    },
    {
      "cell_type": "code",
      "source": [
        "import torch\n",
        "if torch.cuda.get_device_capability()[0] >= 8:\n",
        "    !pip install --no-deps packaging ninja einops \"flash-attn>=2.6.3\""
      ],
      "metadata": {
        "colab": {
          "base_uri": "https://localhost:8080/"
        },
        "id": "MstUEG5pj72y",
        "outputId": "3531c0af-3e3a-4b7d-83bb-e763377f3d6d"
      },
      "execution_count": null,
      "outputs": [
        {
          "output_type": "stream",
          "name": "stdout",
          "text": [
            "Requirement already satisfied: packaging in /usr/local/lib/python3.10/dist-packages (24.2)\n",
            "Collecting ninja\n",
            "  Downloading ninja-1.11.1.3-py3-none-manylinux_2_12_x86_64.manylinux2010_x86_64.whl.metadata (5.3 kB)\n",
            "Requirement already satisfied: einops in /usr/local/lib/python3.10/dist-packages (0.8.0)\n",
            "Collecting flash-attn>=2.6.3\n",
            "  Downloading flash_attn-2.7.2.post1.tar.gz (3.1 MB)\n",
            "\u001b[2K     \u001b[90m━━━━━━━━━━━━━━━━━━━━━━━━━━━━━━━━━━━━━━━━\u001b[0m \u001b[32m3.1/3.1 MB\u001b[0m \u001b[31m40.3 MB/s\u001b[0m eta \u001b[36m0:00:00\u001b[0m\n",
            "\u001b[?25h  Preparing metadata (setup.py) ... \u001b[?25l\u001b[?25hdone\n",
            "Using cached ninja-1.11.1.3-py3-none-manylinux_2_12_x86_64.manylinux2010_x86_64.whl (422 kB)\n",
            "Building wheels for collected packages: flash-attn\n",
            "  Building wheel for flash-attn (setup.py) ... \u001b[?25l\u001b[?25hdone\n",
            "  Created wheel for flash-attn: filename=flash_attn-2.7.2.post1-cp310-cp310-linux_x86_64.whl size=190160474 sha256=0b454d9e650bfc437cc71335080172a5d05f51eab355636c9d5b7321fec7318e\n",
            "  Stored in directory: /root/.cache/pip/wheels/da/ec/5b/b2c37a8e4f755ad82492a822463bca0817f0e0e11de874b550\n",
            "Successfully built flash-attn\n",
            "Installing collected packages: ninja, flash-attn\n",
            "Successfully installed flash-attn-2.7.2.post1 ninja-1.11.1.3\n"
          ]
        }
      ]
    },
    {
      "cell_type": "markdown",
      "source": [
        "# import libraries"
      ],
      "metadata": {
        "id": "UDKsrQaXkYxz"
      }
    },
    {
      "cell_type": "code",
      "source": [
        "import re\n",
        "import json\n",
        "from tqdm import tqdm\n",
        "import torch\n",
        "from unsloth import FastLanguageModel"
      ],
      "metadata": {
        "id": "veD03g_LkRI1"
      },
      "execution_count": null,
      "outputs": []
    },
    {
      "cell_type": "markdown",
      "source": [
        "# config"
      ],
      "metadata": {
        "id": "fMoXoirYkmJl"
      }
    },
    {
      "cell_type": "code",
      "source": [
        "max_seq_length = 1024\n",
        "dtype = None\n",
        "load_in_4bit = True\n",
        "model_id = \"ikedachin/llm-jp-3-13b-october-news-e1-all-3-5-sft-llmjp-magpie-20000\""
      ],
      "metadata": {
        "id": "5TGAL-c1kjB0"
      },
      "execution_count": null,
      "outputs": []
    },
    {
      "cell_type": "code",
      "source": [
        "# set Token of Huggingface\n",
        "from google.colab import userdata\n",
        "HF_W=userdata.get('HF_TOKEN')"
      ],
      "metadata": {
        "id": "yZ5mvu-Zkpbe"
      },
      "execution_count": null,
      "outputs": []
    },
    {
      "cell_type": "markdown",
      "source": [
        "# download model"
      ],
      "metadata": {
        "id": "GzQBkki4ku5d"
      }
    },
    {
      "cell_type": "code",
      "source": [
        "model, tokenizer = FastLanguageModel.from_pretrained(\n",
        "    model_name = model_id,\n",
        "    dtype = dtype,\n",
        "    load_in_4bit = load_in_4bit,\n",
        "    trust_remote_code = True,\n",
        ")"
      ],
      "metadata": {
        "id": "IPMLZjNvksd9"
      },
      "execution_count": null,
      "outputs": []
    },
    {
      "cell_type": "markdown",
      "source": [
        "# prepare a dataset for inference"
      ],
      "metadata": {
        "id": "NSmSNGNsk3Wq"
      }
    },
    {
      "cell_type": "code",
      "source": [
        "datasets = []\n",
        "with open(\"./elyza-tasks-100-TV_0.jsonl\", \"r\") as f:\n",
        "    item = \"\"\n",
        "    for line in f:\n",
        "        line = line.strip()\n",
        "        item += line\n",
        "        if item.endswith(\"}\"):\n",
        "            datasets.append(json.loads(item))\n",
        "            item = \"\""
      ],
      "metadata": {
        "id": "iksLokO7kz_L"
      },
      "execution_count": null,
      "outputs": []
    },
    {
      "cell_type": "markdown",
      "source": [
        "# inference"
      ],
      "metadata": {
        "id": "DWbQHNzGk9_W"
      }
    },
    {
      "cell_type": "code",
      "source": [
        "# 推論するためにモデルのモードを変更\n",
        "FastLanguageModel.for_inference(model)\n",
        "\n",
        "results = []\n",
        "for dt in tqdm(datasets):\n",
        "    input = dt[\"input\"]\n",
        "\n",
        "    prompt = f\"\"\"### 指示\n",
        "{input}\n",
        "### 回答\n",
        "\"\"\"\n",
        "\n",
        "    inputs = tokenizer([prompt], return_tensors = \"pt\").to(model.device)\n",
        "\n",
        "    outputs = model.generate(**inputs, max_new_tokens = max_seq_length, use_cache = True, do_sample=False, repetition_penalty=1.2)\n",
        "    prediction = tokenizer.decode(outputs[0], skip_special_tokens=True).split('\\n### 回答')[-1]\n",
        "\n",
        "    results.append({\"task_id\": dt[\"task_id\"], \"input\": input, \"output\": prediction})"
      ],
      "metadata": {
        "id": "auBBDOG4lBoe"
      },
      "execution_count": null,
      "outputs": []
    },
    {
      "cell_type": "markdown",
      "source": [
        "# save results"
      ],
      "metadata": {
        "id": "qiAGfqPvlOpO"
      }
    },
    {
      "cell_type": "code",
      "source": [
        "json_file_id = re.sub(\".*/\", \"\", model_id)\n",
        "with open(f\"/content/{json_file_id}_output.jsonl\", 'w', encoding='utf-8') as f:\n",
        "    for result in results:\n",
        "        json.dump(result, f, ensure_ascii=False)\n",
        "        f.write('\\n')"
      ],
      "metadata": {
        "id": "THBlJMNYlMRf"
      },
      "execution_count": null,
      "outputs": []
    }
  ]
}