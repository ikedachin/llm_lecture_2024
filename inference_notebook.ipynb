{
  "nbformat": 4,
  "nbformat_minor": 0,
  "metadata": {
    "colab": {
      "provenance": [],
      "machine_shape": "hm",
      "gpuType": "L4",
      "authorship_tag": "ABX9TyMnuIejhj4bnYmf77jl8uP6",
      "include_colab_link": true
    },
    "kernelspec": {
      "name": "python3",
      "display_name": "Python 3"
    },
    "language_info": {
      "name": "python"
    },
    "accelerator": "GPU"
  },
  "cells": [
    {
      "cell_type": "markdown",
      "metadata": {
        "id": "view-in-github",
        "colab_type": "text"
      },
      "source": [
        "<a href=\"https://colab.research.google.com/github/ikedachin/llm_lecture_2024/blob/main/inference_notebook.ipynb\" target=\"_parent\"><img src=\"https://colab.research.google.com/assets/colab-badge.svg\" alt=\"Open In Colab\"/></a>"
      ]
    },
    {
      "cell_type": "markdown",
      "source": [
        "# install libraries"
      ],
      "metadata": {
        "id": "wnHnbgPskFeT"
      }
    },
    {
      "cell_type": "code",
      "execution_count": null,
      "metadata": {
        "id": "Xhzmes_TjydX"
      },
      "outputs": [],
      "source": [
        "# このセルはエラーが出やすいので注意。エラーが出た場合は再実行してください。\n",
        "!pip uninstall unsloth -y\n",
        "!pip install --upgrade --no-cache-dir \"unsloth[colab-new] @ git+https://github.com/unslothai/unsloth.git\""
      ]
    },
    {
      "cell_type": "code",
      "source": [
        "!pip install --upgrade torch\n",
        "!pip install --upgrade xformers"
      ],
      "metadata": {
        "id": "5lNHNW-mj4bU"
      },
      "execution_count": null,
      "outputs": []
    },
    {
      "cell_type": "code",
      "source": [
        "import torch\n",
        "if torch.cuda.get_device_capability()[0] >= 8:\n",
        "    !pip install --no-deps packaging ninja einops \"flash-attn>=2.6.3\""
      ],
      "metadata": {
        "id": "MstUEG5pj72y"
      },
      "execution_count": null,
      "outputs": []
    },
    {
      "cell_type": "markdown",
      "source": [
        "# import libraries"
      ],
      "metadata": {
        "id": "UDKsrQaXkYxz"
      }
    },
    {
      "cell_type": "code",
      "source": [
        "import re\n",
        "import json\n",
        "from tqdm import tqdm\n",
        "import torch\n",
        "from unsloth import FastLanguageModel"
      ],
      "metadata": {
        "id": "veD03g_LkRI1"
      },
      "execution_count": null,
      "outputs": []
    },
    {
      "cell_type": "markdown",
      "source": [
        "# config"
      ],
      "metadata": {
        "id": "fMoXoirYkmJl"
      }
    },
    {
      "cell_type": "code",
      "source": [
        "max_seq_length = 1024\n",
        "dtype = None\n",
        "load_in_4bit = True\n",
        "model_id = \"ikedachin/llm-jp-3-13b-october-news-e1-all-3-5-sft-Ozaki-Magpie-20000-sorted-params\"\n",
        "# model_id = \"ikedachin/llm-jp-3-13b-october-news-e1-all-3-5-sft-llmjp-magpie-20000\""
      ],
      "metadata": {
        "id": "5TGAL-c1kjB0"
      },
      "execution_count": null,
      "outputs": []
    },
    {
      "cell_type": "code",
      "source": [
        "# set Token of Huggingface\n",
        "from google.colab import userdata\n",
        "HF_W=userdata.get('HF_TOKEN')"
      ],
      "metadata": {
        "id": "yZ5mvu-Zkpbe"
      },
      "execution_count": null,
      "outputs": []
    },
    {
      "cell_type": "markdown",
      "source": [
        "# download model"
      ],
      "metadata": {
        "id": "GzQBkki4ku5d"
      }
    },
    {
      "cell_type": "code",
      "source": [
        "model, tokenizer = FastLanguageModel.from_pretrained(\n",
        "    model_name = model_id,\n",
        "    dtype = dtype,\n",
        "    load_in_4bit = load_in_4bit,\n",
        "    trust_remote_code = True,\n",
        ")"
      ],
      "metadata": {
        "id": "IPMLZjNvksd9"
      },
      "execution_count": null,
      "outputs": []
    },
    {
      "cell_type": "markdown",
      "source": [
        "# prepare a dataset for inference"
      ],
      "metadata": {
        "id": "NSmSNGNsk3Wq"
      }
    },
    {
      "cell_type": "code",
      "source": [
        "datasets = []\n",
        "with open(\"./elyza-tasks-100-TV_0.jsonl\", \"r\") as f:\n",
        "    item = \"\"\n",
        "    for line in f:\n",
        "        line = line.strip()\n",
        "        item += line\n",
        "        if item.endswith(\"}\"):\n",
        "            datasets.append(json.loads(item))\n",
        "            item = \"\""
      ],
      "metadata": {
        "id": "iksLokO7kz_L"
      },
      "execution_count": null,
      "outputs": []
    },
    {
      "cell_type": "markdown",
      "source": [
        "# inference"
      ],
      "metadata": {
        "id": "DWbQHNzGk9_W"
      }
    },
    {
      "cell_type": "code",
      "source": [
        "# 推論するためにモデルのモードを変更\n",
        "FastLanguageModel.for_inference(model)\n",
        "\n",
        "results = []\n",
        "for dt in tqdm(datasets):\n",
        "    input = dt[\"input\"]\n",
        "\n",
        "    prompt = f\"\"\"### 指示\n",
        "{input}\n",
        "### 回答\n",
        "\"\"\"\n",
        "\n",
        "    inputs = tokenizer([prompt], return_tensors = \"pt\").to(model.device)\n",
        "\n",
        "    outputs = model.generate(**inputs, max_new_tokens = max_seq_length, use_cache = True, do_sample=False, repetition_penalty=1.2)\n",
        "    prediction = tokenizer.decode(outputs[0], skip_special_tokens=True).split('\\n### 回答')[-1]\n",
        "\n",
        "    results.append({\"task_id\": dt[\"task_id\"], \"input\": input, \"output\": prediction})"
      ],
      "metadata": {
        "id": "auBBDOG4lBoe"
      },
      "execution_count": null,
      "outputs": []
    },
    {
      "cell_type": "markdown",
      "source": [
        "# save results"
      ],
      "metadata": {
        "id": "qiAGfqPvlOpO"
      }
    },
    {
      "cell_type": "code",
      "source": [
        "json_file_id = re.sub(\".*/\", \"\", model_id)\n",
        "with open(f\"/content/{json_file_id}_output.jsonl\", 'w', encoding='utf-8') as f:\n",
        "    for result in results:\n",
        "        json.dump(result, f, ensure_ascii=False)\n",
        "        f.write('\\n')"
      ],
      "metadata": {
        "id": "THBlJMNYlMRf"
      },
      "execution_count": null,
      "outputs": []
    }
  ]
}